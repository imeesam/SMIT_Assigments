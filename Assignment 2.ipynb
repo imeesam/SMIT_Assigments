{
 "cells": [
  {
   "cell_type": "markdown",
   "id": "21acd0dc-9bda-4ede-8bd1-9729b21dbd48",
   "metadata": {},
   "source": [
    "## ASSIGMENT 2"
   ]
  },
  {
   "cell_type": "code",
   "execution_count": 19,
   "id": "2dd4afa8-f0f1-4575-9e99-0f2c24699ad7",
   "metadata": {},
   "outputs": [
    {
     "name": "stdin",
     "output_type": "stream",
     "text": [
      "Enter Length for Rectangle: 4\n",
      "Enter width for Rectangle: 4\n"
     ]
    },
    {
     "name": "stdout",
     "output_type": "stream",
     "text": [
      "The area of rectangle is given as 16.0 m^2\n"
     ]
    }
   ],
   "source": [
    "#1)\n",
    "length = float(input(\"Enter Length for Rectangle:\"))\n",
    "width = float(input(\"Enter width for Rectangle:\"))\n",
    "area = length * width \n",
    "print(f\"The area of rectangle is given as {area} m^2\")"
   ]
  },
  {
   "cell_type": "code",
   "execution_count": 21,
   "id": "e07755ad-15db-4f3d-815e-6894e82ee178",
   "metadata": {},
   "outputs": [
    {
     "name": "stdin",
     "output_type": "stream",
     "text": [
      "Enter radius for circumference of a circle: 3\n"
     ]
    },
    {
     "name": "stdout",
     "output_type": "stream",
     "text": [
      "The circumference for given radius is 3.0 is given as 18.84955592153876\n"
     ]
    }
   ],
   "source": [
    "#2)\n",
    "import math\n",
    "radius = float(input(\"Enter radius for circumference of a circle:\"))\n",
    "pi = math.pi\n",
    "circumference = 2 * pi * radius  \n",
    "print(f\"The circumference for given radius is {radius} is given as {circumference}\")"
   ]
  },
  {
   "cell_type": "code",
   "execution_count": 16,
   "id": "d493ecaa-b6c6-4c56-83d9-5901aa62ac96",
   "metadata": {},
   "outputs": [
    {
     "name": "stdin",
     "output_type": "stream",
     "text": [
      "Enter principal for interest: 5\n",
      "Enter rate for interest: 5\n",
      "Enter time for interest: 5\n"
     ]
    },
    {
     "name": "stdout",
     "output_type": "stream",
     "text": [
      "The Simplest interest is given as 125.0\n"
     ]
    }
   ],
   "source": [
    "#3) \n",
    "principal = float(input(\"Enter principal for interest:\"))\n",
    "rate = float(input(\"Enter rate for interest:\"))\n",
    "time = float(input(\"Enter time for interest:\"))\n",
    "simpleinterest = principal * rate * time\n",
    "print(f\"Simplest interest is given as {simpleinterest}\")"
   ]
  },
  {
   "cell_type": "code",
   "execution_count": 20,
   "id": "2ed81382-58bc-4f06-8463-dde5c80c133c",
   "metadata": {},
   "outputs": [
    {
     "name": "stdin",
     "output_type": "stream",
     "text": [
      "Enter distance in meter for Speed: 10\n",
      "Enter time in seconds for speed: 5\n"
     ]
    },
    {
     "name": "stdout",
     "output_type": "stream",
     "text": [
      "The speed in meter per second is 2.0 m/s.\n"
     ]
    }
   ],
   "source": [
    "#4)\n",
    "distance = float(input(\"Enter distance in meter for Speed:\"))\n",
    "time = float(input(\"Enter time in seconds for speed:\"))\n",
    "speed = distance / time \n",
    "print(f\"The speed in meter per second is {speed} m/s.\")"
   ]
  },
  {
   "cell_type": "code",
   "execution_count": 24,
   "id": "070e7452-0b5c-4cc2-a0a3-31fa5aa6624d",
   "metadata": {},
   "outputs": [
    {
     "name": "stdin",
     "output_type": "stream",
     "text": [
      "Enter your height: 1.55\n",
      "Enter your weight: 45\n"
     ]
    },
    {
     "name": "stdout",
     "output_type": "stream",
     "text": [
      "The Body mass index of given height 1.55 m and weight 45.0 kg  is given as 1306.4516129032259\n"
     ]
    }
   ],
   "source": [
    "#5)\n",
    "height = float(input(\"Enter your height:\"))\n",
    "weight = float(input(\"Enter your weight:\"))\n",
    "BMI = (weight**2) / height \n",
    "print(f\"The Body mass index of given height {height} m and weight {weight} kg  is given as {BMI}\")"
   ]
  },
  {
   "cell_type": "code",
   "execution_count": 27,
   "id": "ae7a62ff-9915-43ba-85b1-62dfde9cbb25",
   "metadata": {},
   "outputs": [
    {
     "name": "stdin",
     "output_type": "stream",
     "text": [
      "Enter mass in Kg for Force: 4\n",
      "Enter acceleration in meters/seconds**2 for Force: 3\n"
     ]
    },
    {
     "name": "stdout",
     "output_type": "stream",
     "text": [
      "The speed in meter per second is 12.0 N.\n"
     ]
    }
   ],
   "source": [
    "#6) \n",
    "mass = float(input(\"Enter mass in Kg for Force:\"))\n",
    "acc = float(input(\"Enter acceleration in meters/seconds**2 for Force:\"))\n",
    "Force = mass * acc\n",
    "print(f\"The speed in meter per second is {Force} N.\")"
   ]
  },
  {
   "cell_type": "code",
   "execution_count": 28,
   "id": "7aaeae67-dc87-43f8-89d7-db0613270269",
   "metadata": {},
   "outputs": [
    {
     "name": "stdin",
     "output_type": "stream",
     "text": [
      "Enter Principal Amount:  3\n",
      "Enter annual rate:  2\n",
      "Enter number of times interest is compounded:  2\n",
      "Enter times in years:  0\n"
     ]
    },
    {
     "name": "stdout",
     "output_type": "stream",
     "text": [
      "The Compount interest is given as 12.0.\n"
     ]
    }
   ],
   "source": [
    "#7) \n",
    "P = float(input(\"Enter principal Amount: \"))\n",
    "r = float(input(\"Enter annual rate: \"))\n",
    "n = float(input(\"Enter number of times interest is compounded: \"))\n",
    "t = float(input(\"Enter times in years: \"))\n",
    "A = P*(1+r/n)**(n-t)\n",
    "print(f\"The Compount interest is given as {A}.\")"
   ]
  },
  {
   "cell_type": "code",
   "execution_count": 29,
   "id": "c416d1fd-c3aa-4236-b29f-5d3b08be17fe",
   "metadata": {},
   "outputs": [
    {
     "name": "stdin",
     "output_type": "stream",
     "text": [
      "Enter length for first side a:  5\n",
      "Enter length for first side b:  5\n",
      "Enter length for first side c:  5\n"
     ]
    },
    {
     "name": "stdout",
     "output_type": "stream",
     "text": [
      "The perimeter of a triangle is given as 15.0\n"
     ]
    }
   ],
   "source": [
    "#8)\n",
    "a = float(input(\"Enter length for first side a: \"))\n",
    "b = float(input(\"Enter length for first side b: \"))\n",
    "c = float(input(\"Enter length for first side c: \"))\n",
    "\n",
    "perimeter =  a + b + c\n",
    "\n",
    "print(f\"The perimeter of a triangle is given as {perimeter}\")\n"
   ]
  },
  {
   "cell_type": "code",
   "execution_count": 31,
   "id": "b718705e-a5e9-499e-bbda-9c29c01e6aab",
   "metadata": {},
   "outputs": [
    {
     "name": "stdin",
     "output_type": "stream",
     "text": [
      "Enter radius for volume of sphere:  2\n"
     ]
    },
    {
     "name": "stdout",
     "output_type": "stream",
     "text": [
      " The voulme of sphere  for radius 2.0 is 33.510321638291124.\n"
     ]
    }
   ],
   "source": [
    "#9) \n",
    "import math\n",
    "r = float(input(\"Enter radius for volume of sphere: \"))\n",
    "pi = math.pi\n",
    "vol = (4/3) * (pi) * (r**3)\n",
    "print(f\" The voulme of sphere  for radius {r} is {vol}.\")"
   ]
  },
  {
   "cell_type": "code",
   "execution_count": 32,
   "id": "c3cba7a2-5d2e-4dd6-8678-2161963bbb58",
   "metadata": {},
   "outputs": [
    {
     "name": "stdin",
     "output_type": "stream",
     "text": [
      "Enter velocity for K.E: 5\n",
      "Enter mass for K.E: 2\n"
     ]
    },
    {
     "name": "stdout",
     "output_type": "stream",
     "text": [
      "The KE for the mass 2.0 kg and velocity 5.0 m/s is given as 25.0\n"
     ]
    }
   ],
   "source": [
    "#10)\n",
    "v = float(input(\"Enter velocity for K.E:\"))\n",
    "m = float(input(\"Enter mass for K.E:\"))\n",
    "KE = (1/2) * m * (v**2)\n",
    "print(f\"The KE for the mass {m} kg and velocity {v} m/s is given as {KE} J\")"
   ]
  },
  {
   "cell_type": "code",
   "execution_count": 7,
   "id": "af7c8e0b-1242-4c70-b983-b7e5fe95ef45",
   "metadata": {},
   "outputs": [
    {
     "name": "stdin",
     "output_type": "stream",
     "text": [
      "Enter coefficient a:  4\n",
      "Enter coefficient b:  5\n",
      "Enter coefficient c:  6\n"
     ]
    },
    {
     "name": "stdout",
     "output_type": "stream",
     "text": [
      "No real roots exist.\n"
     ]
    }
   ],
   "source": [
    "#11)\n",
    "import math\n",
    "\n",
    "a = float(input(\"Enter coefficient a: \"))\n",
    "b = float(input(\"Enter coefficient b: \"))\n",
    "c = float(input(\"Enter coefficient c: \"))\n",
    "if a == 0:\n",
    "    print(\"This is not a quadratic equation.\")\n",
    "else:\n",
    "    dis = (b**2) - (4 * a * c)\n",
    "    \n",
    "    if dis < 0:\n",
    "        print(\"No real roots exist.\")\n",
    "    else:\n",
    "        X1 = (-b + math.sqrt(dis)) / (2 * a)\n",
    "        X2 = (-b - math.sqrt(dis)) / (2 * a)\n",
    "        print(f\"The roots of this equation is X1 = {X1} and X2 = {X2}\")\n",
    "    \n"
   ]
  },
  {
   "cell_type": "code",
   "execution_count": 10,
   "id": "38e8b9bd-0133-4056-aa5d-ed316105f5ef",
   "metadata": {},
   "outputs": [
    {
     "name": "stdin",
     "output_type": "stream",
     "text": [
      "Enter temperature in Celicus : 10\n"
     ]
    },
    {
     "name": "stdout",
     "output_type": "stream",
     "text": [
      "The conversion from celicus to frahnehit is given as 50.0 F\n"
     ]
    }
   ],
   "source": [
    "#12) \n",
    "C = float(input(\"Enter temperature in Celicus :\"))\n",
    "F = ((9/5) * C) + 32\n",
    "\n",
    "print(f\"The conversion from celicus to frahnehit is given as {F} F\")"
   ]
  },
  {
   "cell_type": "code",
   "execution_count": 14,
   "id": "74cc6bb2-220b-4b5b-bbed-3e41ecd5ff09",
   "metadata": {},
   "outputs": [
    {
     "name": "stdin",
     "output_type": "stream",
     "text": [
      "Enter mass 1 : 4\n",
      "Enter mass 2 : 3\n",
      "Enter radius:  8\n"
     ]
    },
    {
     "name": "stdout",
     "output_type": "stream",
     "text": [
      "The force for the the masses m1 4.0 kg m2 3.0 kg and radius 8.0 m  is Force 1.2511875e-11 N\n"
     ]
    }
   ],
   "source": [
    "#13)\n",
    "G = 6.673*(10**-11)\n",
    "m1 = float(input(\"Enter mass 1 :\"))\n",
    "m2 = float(input(\"Enter mass 2 :\"))\n",
    "r = float(input(\"Enter radius: \"))\n",
    "\n",
    "F = (G * m1 * m2)/(r**2)\n",
    "\n",
    "print(f\"The force for the the masses m1 {m1} kg m2 {m2} kg and radius {r} m  is Force {F} N\")"
   ]
  },
  {
   "cell_type": "code",
   "execution_count": 15,
   "id": "dc9ed9a3-5ab3-4655-a2d6-208d355aec64",
   "metadata": {},
   "outputs": [
    {
     "name": "stdin",
     "output_type": "stream",
     "text": [
      "Enter radius: 5\n",
      "Enter height: 3\n"
     ]
    },
    {
     "name": "stdout",
     "output_type": "stream",
     "text": [
      "The  vloume of a cylinder is given as 235.61944901923448\n"
     ]
    }
   ],
   "source": [
    "#14) \n",
    "import math\n",
    "pi =  math.pi\n",
    "r = float(input(\"Enter radius:\"))\n",
    "h = float(input(\"Enter height:\"))\n",
    "vol = pi * h * (r**2)\n",
    "print(f\"The  vloume of a cylinder is given as {vol}\")\n"
   ]
  },
  {
   "cell_type": "code",
   "execution_count": 17,
   "id": "9e945e4a-c3b9-41f8-9bbf-4fe7bb09c98e",
   "metadata": {},
   "outputs": [
    {
     "name": "stdin",
     "output_type": "stream",
     "text": [
      "Enter force in N: 5\n",
      "Enter area in meter square: 7\n"
     ]
    },
    {
     "name": "stdout",
     "output_type": "stream",
     "text": [
      "The pressure is given as 0.7142857142857143 N/m^2\n"
     ]
    }
   ],
   "source": [
    "#15)\n",
    "f = float(input(\"Enter force in N:\"))\n",
    "a = float(input(\"Enter area in meter square:\"))\n",
    "p = f/a\n",
    "print(f\"The pressure is given as {p} N/m^2\")"
   ]
  },
  {
   "cell_type": "code",
   "execution_count": 24,
   "id": "f34b3610-3a4a-43a9-9640-0e11bea910e6",
   "metadata": {},
   "outputs": [
    {
     "name": "stdin",
     "output_type": "stream",
     "text": [
      "Enter voltage:  5\n",
      "Enter current:  2\n"
     ]
    },
    {
     "name": "stdout",
     "output_type": "stream",
     "text": [
      "The power is given as 2.5 W\n"
     ]
    }
   ],
   "source": [
    "#16)\n",
    "v = float(input(\"Enter voltage: \"))\n",
    "i = float(input(\"Enter current: \"))\n",
    "p = v / i\n",
    "print(f\"The power is given as {p} W\")"
   ]
  },
  {
   "cell_type": "code",
   "execution_count": 26,
   "id": "b2395fa1-6392-4272-b10e-7aaeb5f0009b",
   "metadata": {},
   "outputs": [
    {
     "name": "stdin",
     "output_type": "stream",
     "text": [
      "Enter radius for circumference of a circle: 4\n"
     ]
    },
    {
     "name": "stdout",
     "output_type": "stream",
     "text": [
      "The perimeter for given radius is 4.0 is given as 25.132741228718345\n"
     ]
    }
   ],
   "source": [
    "#17)\n",
    "import math\n",
    "radius = float(input(\"Enter radius for circumference of a circle:\"))\n",
    "pi = math.pi\n",
    "perim = 2 * pi * radius  \n",
    "print(f\"The perimeter for given radius is {radius} is given as {perim}\")"
   ]
  },
  {
   "cell_type": "code",
   "execution_count": 29,
   "id": "7e7c72b8-bfcb-4c3a-a43c-20d9ac6b73f6",
   "metadata": {},
   "outputs": [
    {
     "name": "stdin",
     "output_type": "stream",
     "text": [
      "Enter Present Value :  10\n",
      "Enter annual interest rate :  1\n",
      "Enter time :  10\n"
     ]
    },
    {
     "name": "stdout",
     "output_type": "stream",
     "text": [
      "The future value is given  as 10240.0\n"
     ]
    }
   ],
   "source": [
    "#18)\n",
    "pv = float(input(\"Enter Present Value : \"))\n",
    "r = float(input(\"Enter annual interest rate : \"))\n",
    "t = float(input(\"Enter time : \"))\n",
    "fv = pv * (1+r)**t\n",
    "print(f\"The future value is given  as {fv}\")"
   ]
  },
  {
   "cell_type": "code",
   "execution_count": 2,
   "id": "414b4edf-83cf-419f-86d9-584ca7f1be5e",
   "metadata": {},
   "outputs": [
    {
     "name": "stdin",
     "output_type": "stream",
     "text": [
      "Enter Force :  5\n",
      "Enter distance :  2\n",
      "Enter angle in degrees:  30\n"
     ]
    },
    {
     "name": "stdout",
     "output_type": "stream",
     "text": [
      "The workdone is given as 1.5425144988758404 J \n"
     ]
    }
   ],
   "source": [
    "#19)\n",
    "import math\n",
    "f = float(input(\"Enter Force : \"))\n",
    "d = float(input(\"Enter distance : \"))\n",
    "theta = float(input(\"Enter angle in degrees: \"))\n",
    "angle = math.cos(theta)\n",
    "w = f * d * angle\n",
    "print(f\"The workdone is given as {w} J \")"
   ]
  },
  {
   "cell_type": "code",
   "execution_count": 4,
   "id": "9e9e0ac9-86f1-4d90-aca8-38e17371b1ca",
   "metadata": {},
   "outputs": [
    {
     "name": "stdin",
     "output_type": "stream",
     "text": [
      "Enter mass  :  10\n",
      "Enter specific heat capacity   4200\n",
      "Enter change in temperature  :  330\n"
     ]
    },
    {
     "name": "stdout",
     "output_type": "stream",
     "text": [
      "The heat transfer is given as 13860000.0\n"
     ]
    }
   ],
   "source": [
    "#20)\n",
    "m = float(input(\"Enter mass  : \"))\n",
    "c = float(input(\"Enter specific heat capacity  \"))\n",
    "cT = float(input(\"Enter change in temperature  : \"))\n",
    "q = m * c * cT\n",
    "print(f\"The heat transfer is given as {q}\")"
   ]
  },
  {
   "cell_type": "code",
   "execution_count": 5,
   "id": "2fd10135-8a52-4808-ace3-18fca986b23d",
   "metadata": {},
   "outputs": [
    {
     "name": "stdout",
     "output_type": "stream",
     "text": [
      "Collecting pandoc\n",
      "  Downloading pandoc-2.4.tar.gz (34 kB)\n",
      "  Preparing metadata (setup.py): started\n",
      "  Preparing metadata (setup.py): finished with status 'done'\n",
      "Collecting plumbum (from pandoc)\n",
      "  Downloading plumbum-1.9.0-py3-none-any.whl.metadata (10 kB)\n",
      "Requirement already satisfied: ply in c:\\users\\meesam\\anaconda3\\lib\\site-packages (from pandoc) (3.11)\n",
      "Requirement already satisfied: pywin32 in c:\\users\\meesam\\anaconda3\\lib\\site-packages (from plumbum->pandoc) (305.1)\n",
      "Downloading plumbum-1.9.0-py3-none-any.whl (127 kB)\n",
      "Building wheels for collected packages: pandoc\n",
      "  Building wheel for pandoc (setup.py): started\n",
      "  Building wheel for pandoc (setup.py): finished with status 'done'\n",
      "  Created wheel for pandoc: filename=pandoc-2.4-py3-none-any.whl size=34821 sha256=c55257f343aee8eccc77c2351494504daa226bba3500f80d2dbfcdc108106632\n",
      "  Stored in directory: c:\\users\\meesam\\appdata\\local\\pip\\cache\\wheels\\9c\\2f\\9f\\b1aac8c3e74b4ee327dc8c6eac5128996f9eadf586e2c0ba67\n",
      "Successfully built pandoc\n",
      "Installing collected packages: plumbum, pandoc\n",
      "Successfully installed pandoc-2.4 plumbum-1.9.0\n",
      "Note: you may need to restart the kernel to use updated packages.\n"
     ]
    }
   ],
   "source": [
    "pip install pandoc"
   ]
  },
  {
   "cell_type": "code",
   "execution_count": null,
   "id": "0c9c8466-5dfb-40f8-a97e-4941ed06cfa3",
   "metadata": {},
   "outputs": [],
   "source": []
  }
 ],
 "metadata": {
  "kernelspec": {
   "display_name": "Python 3 (ipykernel)",
   "language": "python",
   "name": "python3"
  },
  "language_info": {
   "codemirror_mode": {
    "name": "ipython",
    "version": 3
   },
   "file_extension": ".py",
   "mimetype": "text/x-python",
   "name": "python",
   "nbconvert_exporter": "python",
   "pygments_lexer": "ipython3",
   "version": "3.12.7"
  }
 },
 "nbformat": 4,
 "nbformat_minor": 5
}
