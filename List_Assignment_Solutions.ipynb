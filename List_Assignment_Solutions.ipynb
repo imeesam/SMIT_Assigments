{
 "cells": [
  {
   "cell_type": "code",
   "execution_count": null,
   "id": "293e9a19",
   "metadata": {},
   "outputs": [],
   "source": [
    "# Assignment 1: Alternate elements of a list\n",
    "lst = list(map(int, input(\"Enter the list elements separated by spaces: \").split()))\n",
    "print(\"Alternate elements of the list:\", lst[::2])"
   ]
  },
  {
   "cell_type": "code",
   "execution_count": null,
   "id": "ce020e47",
   "metadata": {},
   "outputs": [],
   "source": [
    "# Assignment 2: Reverse list without using reverse()\n",
    "lst = list(map(int, input(\"Enter the list elements separated by spaces: \").split()))\n",
    "reversed_lst = lst[::-1]\n",
    "print(\"Reversed list:\", reversed_lst)"
   ]
  },
  {
   "cell_type": "code",
   "execution_count": null,
   "id": "4db6a5cf",
   "metadata": {},
   "outputs": [],
   "source": [
    "# Assignment 3: Largest number without using max()\n",
    "lst = list(map(int, input(\"Enter the list elements separated by spaces: \").split()))\n",
    "largest = lst[0]\n",
    "for num in lst:\n",
    "    if num > largest:\n",
    "        largest = num\n",
    "print(\"Largest number:\", largest)"
   ]
  },
  {
   "cell_type": "code",
   "execution_count": null,
   "id": "6b1146f6",
   "metadata": {},
   "outputs": [],
   "source": [
    "# Assignment 4: Rotate elements of a list\n",
    "lst = list(map(int, input(\"Enter the list elements separated by spaces: \").split()))\n",
    "rotated_lst = lst[1:] + lst[:1]\n",
    "print(\"Rotated list:\", rotated_lst)"
   ]
  },
  {
   "cell_type": "code",
   "execution_count": null,
   "id": "2800bff9",
   "metadata": {},
   "outputs": [],
   "source": [
    "# Assignment 5: Delete a word from a string\n",
    "string = input(\"Enter a string: \")\n",
    "word_to_delete = input(\"Enter the word to delete: \")\n",
    "new_string = string.replace(word_to_delete, \"\").strip()\n",
    "print(\"String after deletion:\", new_string)"
   ]
  },
  {
   "cell_type": "code",
   "execution_count": null,
   "id": "53ef0e6c",
   "metadata": {},
   "outputs": [],
   "source": [
    "# Assignment 6: Convert mm/dd/yyyy to 'Month day, year'\n",
    "import datetime\n",
    "\n",
    "date_input = input(\"Enter a date in mm/dd/yyyy format: \")\n",
    "date_obj = datetime.datetime.strptime(date_input, \"%m/%d/%Y\")\n",
    "formatted_date = date_obj.strftime(\"%B %d, %Y\")\n",
    "print(\"Formatted date:\", formatted_date)"
   ]
  },
  {
   "cell_type": "code",
   "execution_count": null,
   "id": "aa28af66",
   "metadata": {},
   "outputs": [],
   "source": [
    "# Assignment 7: Capitalize each word in a string\n",
    "def capitalize_words(sentence):\n",
    "    return \" \".join(word.capitalize() for word in sentence.split())\n",
    "\n",
    "string = input(\"Enter a sentence: \")\n",
    "capitalized_string = capitalize_words(string)\n",
    "print(\"Capitalized sentence:\", capitalized_string)"
   ]
  },
  {
   "cell_type": "code",
   "execution_count": null,
   "id": "975fcd91",
   "metadata": {},
   "outputs": [],
   "source": [
    "# Assignment 8: Sum of each row of a matrix\n",
    "rows = int(input(\"Enter the number of rows: \"))\n",
    "cols = int(input(\"Enter the number of columns: \"))\n",
    "matrix = []\n",
    "for i in range(rows):\n",
    "    row = list(map(int, input(f\"Enter row {i+1} elements separated by spaces: \").split()))\n",
    "    matrix.append(row)\n",
    "\n",
    "for i, row in enumerate(matrix):\n",
    "    print(f\"Sum of row {i+1} =\", sum(row))"
   ]
  },
  {
   "cell_type": "code",
   "execution_count": null,
   "id": "2200bcb8",
   "metadata": {},
   "outputs": [],
   "source": [
    "# Assignment 9: Add two matrices\n",
    "rows = int(input(\"Enter the number of rows: \"))\n",
    "cols = int(input(\"Enter the number of columns: \"))\n",
    "\n",
    "print(\"Enter elements of the first matrix:\")\n",
    "matrix1 = [list(map(int, input().split())) for _ in range(rows)]\n",
    "\n",
    "print(\"Enter elements of the second matrix:\")\n",
    "matrix2 = [list(map(int, input().split())) for _ in range(rows)]\n",
    "\n",
    "result = [[matrix1[i][j] + matrix2[i][j] for j in range(cols)] for i in range(rows)]\n",
    "print(\"Resultant matrix after addition:\")\n",
    "for row in result:\n",
    "    print(row)"
   ]
  },
  {
   "cell_type": "code",
   "execution_count": null,
   "id": "22069ac7",
   "metadata": {},
   "outputs": [],
   "source": [
    "# Assignment 10: Multiply two matrices\n",
    "rows1 = int(input(\"Enter the number of rows for the first matrix: \"))\n",
    "cols1 = int(input(\"Enter the number of columns for the first matrix: \"))\n",
    "rows2 = int(input(\"Enter the number of rows for the second matrix: \"))\n",
    "cols2 = int(input(\"Enter the number of columns for the second matrix: \"))\n",
    "\n",
    "if cols1 != rows2:\n",
    "    print(\"Matrix multiplication not possible. Columns of first matrix must equal rows of second.\")\n",
    "else:\n",
    "    print(\"Enter elements of the first matrix:\")\n",
    "    matrix1 = [list(map(int, input().split())) for _ in range(rows1)]\n",
    "\n",
    "    print(\"Enter elements of the second matrix:\")\n",
    "    matrix2 = [list(map(int, input().split())) for _ in range(rows2)]\n",
    "\n",
    "    result = [[sum(matrix1[i][k] * matrix2[k][j] for k in range(cols1)) for j in range(cols2)] for i in range(rows1)]\n",
    "    print(\"Resultant matrix after multiplication:\")\n",
    "    for row in result:\n",
    "        print(row)"
   ]
  }
 ],
 "metadata": {},
 "nbformat": 4,
 "nbformat_minor": 5
}
