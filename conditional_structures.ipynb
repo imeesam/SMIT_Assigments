{
 "cells": [
  {
   "cell_type": "code",
   "execution_count": null,
   "id": "69f878dd",
   "metadata": {},
   "outputs": [],
   "source": [
    "# Assignment 1: Check even or odd\n",
    "num = int(input(\"Enter a number: \"))\n",
    "if num % 2 == 0:\n",
    "    print(\"The number is even.\")\n",
    "else:\n",
    "    print(\"The number is odd.\")"
   ]
  },
  {
   "cell_type": "code",
   "execution_count": null,
   "id": "e48d3c75",
   "metadata": {},
   "outputs": [],
   "source": [
    "# Assignment 2: Check voting eligibility\n",
    "age = int(input(\"Enter your age: \"))\n",
    "if age >= 18:\n",
    "    print(\"You are eligible to vote.\")\n",
    "else:\n",
    "    print(\"You are not eligible to vote yet.\")"
   ]
  },
  {
   "cell_type": "code",
   "execution_count": null,
   "id": "52366520",
   "metadata": {},
   "outputs": [],
   "source": [
    "# Assignment 3: Find the largest of two numbers\n",
    "num1 = int(input(\"Enter the first number: \"))\n",
    "num2 = int(input(\"Enter the second number: \"))\n",
    "print(\"The largest number is:\", max(num1, num2))"
   ]
  },
  {
   "cell_type": "code",
   "execution_count": null,
   "id": "afa1dc18",
   "metadata": {},
   "outputs": [],
   "source": [
    "# Assignment 4: Check if number is positive, negative, or zero\n",
    "num = int(input(\"Enter a number: \"))\n",
    "if num > 0:\n",
    "    print(\"Positive\")\n",
    "elif num < 0:\n",
    "    print(\"Negative\")\n",
    "else:\n",
    "    print(\"Zero\")"
   ]
  },
  {
   "cell_type": "code",
   "execution_count": null,
   "id": "9da2e959",
   "metadata": {},
   "outputs": [],
   "source": [
    "# Assignment 5: Determine age group\n",
    "age = int(input(\"Enter your age: \"))\n",
    "if 0 <= age <= 12:\n",
    "    print(\"Child\")\n",
    "elif 13 <= age <= 19:\n",
    "    print(\"Teenager\")\n",
    "elif 20 <= age <= 59:\n",
    "    print(\"Adult\")\n",
    "else:\n",
    "    print(\"Senior Citizen\")"
   ]
  },
  {
   "cell_type": "code",
   "execution_count": null,
   "id": "22fd9a52",
   "metadata": {},
   "outputs": [],
   "source": [
    "# Assignment 6: Day of the week\n",
    "day_num = int(input(\"Enter a number (1-7): \"))\n",
    "days = {1: \"Sunday\", 2: \"Monday\", 3: \"Tuesday\", 4: \"Wednesday\", 5: \"Thursday\", 6: \"Friday\", 7: \"Saturday\"}\n",
    "if day_num in days:\n",
    "    print(\"Day:\", days[day_num])\n",
    "else:\n",
    "    print(\"Error: Enter a number between 1 and 7.\")"
   ]
  },
  {
   "cell_type": "code",
   "execution_count": null,
   "id": "75f1d996",
   "metadata": {},
   "outputs": [],
   "source": [
    "# Assignment 7: Calculate BMI and categorize\n",
    "weight = float(input(\"Enter your weight in kilograms: \"))\n",
    "height = float(input(\"Enter your height in meters: \"))\n",
    "bmi = weight / (height ** 2)\n",
    "if bmi < 18.5:\n",
    "    print(\"Underweight\")\n",
    "elif 18.5 <= bmi <= 24.9:\n",
    "    print(\"Normal weight\")\n",
    "elif 25 <= bmi <= 29.9:\n",
    "    print(\"Overweight\")\n",
    "else:\n",
    "    print(\"Obesity\")"
   ]
  },
  {
   "cell_type": "code",
   "execution_count": null,
   "id": "642cd462",
   "metadata": {},
   "outputs": [],
   "source": [
    "# Assignment 8: Grade based on average marks\n",
    "marks = list(map(int, input(\"Enter marks for 3 subjects separated by spaces: \").split()))\n",
    "avg = sum(marks) / 3\n",
    "if 90 <= avg <= 100:\n",
    "    print(\"Grade: A\")\n",
    "elif 80 <= avg < 90:\n",
    "    print(\"Grade: B\")\n",
    "elif 70 <= avg < 80:\n",
    "    print(\"Grade: C\")\n",
    "elif 60 <= avg < 70:\n",
    "    print(\"Grade: D\")\n",
    "else:\n",
    "    print(\"Grade: F\")"
   ]
  },
  {
   "cell_type": "code",
   "execution_count": null,
   "id": "a7f8a5f4",
   "metadata": {},
   "outputs": [],
   "source": [
    "# Assignment 9: Roots of a quadratic equation\n",
    "import cmath\n",
    "a = float(input(\"Enter coefficient a: \"))\n",
    "b = float(input(\"Enter coefficient b: \"))\n",
    "c = float(input(\"Enter coefficient c: \"))\n",
    "discriminant = (b ** 2) - (4 * a * c)\n",
    "root1 = (-b + cmath.sqrt(discriminant)) / (2 * a)\n",
    "root2 = (-b - cmath.sqrt(discriminant)) / (2 * a)\n",
    "print(\"Roots are:\", root1, \"and\", root2)"
   ]
  },
  {
   "cell_type": "code",
   "execution_count": null,
   "id": "16f235b6",
   "metadata": {},
   "outputs": [],
   "source": [
    "# Assignment 10: Sort three numbers\n",
    "nums = list(map(int, input(\"Enter three numbers separated by spaces: \").split()))\n",
    "nums.sort()\n",
    "print(\"Sorted numbers:\", nums)"
   ]
  },
  {
   "cell_type": "code",
   "execution_count": null,
   "id": "b93eae6c",
   "metadata": {},
   "outputs": [],
   "source": [
    "# Assignment 11: Find the largest of three numbers\n",
    "nums = list(map(int, input(\"Enter three numbers separated by spaces: \").split()))\n",
    "print(\"The largest number is:\", max(nums))"
   ]
  },
  {
   "cell_type": "code",
   "execution_count": null,
   "id": "cdecb2ea",
   "metadata": {},
   "outputs": [],
   "source": [
    "# Assignment 12: Check if character is vowel or consonant\n",
    "char = input(\"Enter a character: \").lower()\n",
    "if char in \"aeiou\":\n",
    "    print(\"Vowel\")\n",
    "else:\n",
    "    print(\"Consonant\")"
   ]
  },
  {
   "cell_type": "code",
   "execution_count": null,
   "id": "6ab4eb5f",
   "metadata": {},
   "outputs": [],
   "source": [
    "# Assignment 13: Check if year is leap year\n",
    "year = int(input(\"Enter a year: \"))\n",
    "if (year % 4 == 0 and year % 100 != 0) or (year % 400 == 0):\n",
    "    print(\"Leap Year\")\n",
    "else:\n",
    "    print(\"Not a Leap Year\")"
   ]
  },
  {
   "cell_type": "code",
   "execution_count": null,
   "id": "bd4cef48",
   "metadata": {},
   "outputs": [],
   "source": [
    "# Assignment 14: Calculate telephone bill\n",
    "calls = int(input(\"Enter the number of calls: \"))\n",
    "if calls <= 100:\n",
    "    bill = 200\n",
    "elif calls <= 150:\n",
    "    bill = 200 + (calls - 100) * 0.60\n",
    "elif calls <= 200:\n",
    "    bill = 200 + (50 * 0.60) + (calls - 150) * 0.50\n",
    "else:\n",
    "    bill = 200 + (50 * 0.60) + (50 * 0.50) + (calls - 200) * 0.40\n",
    "print(\"Your telephone bill is: Rs.\", bill)"
   ]
  }
 ],
 "metadata": {},
 "nbformat": 4,
 "nbformat_minor": 5
}
